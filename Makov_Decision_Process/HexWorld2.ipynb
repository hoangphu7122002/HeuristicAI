{
  "nbformat": 4,
  "nbformat_minor": 0,
  "metadata": {
    "colab": {
      "name": "HexWorld2.ipynb",
      "provenance": []
    },
    "kernelspec": {
      "name": "python3",
      "display_name": "Python 3"
    },
    "language_info": {
      "name": "python"
    }
  },
  "cells": [
    {
      "cell_type": "code",
      "execution_count": null,
      "metadata": {
        "id": "IID0bAeUjLKi"
      },
      "outputs": [],
      "source": [
        "import sys\n",
        "import math\n",
        "import matplotlib.pyplot as plt\n",
        "import numpy as np\n",
        "MIN_INT = -sys.maxsize - 1"
      ]
    },
    {
      "cell_type": "markdown",
      "source": [
        "#MOUNTED COLAB"
      ],
      "metadata": {
        "id": "3_wTIDGJJ_8R"
      }
    },
    {
      "cell_type": "code",
      "source": [
        "from google.colab import drive\n",
        "drive.mount('/gdrive')"
      ],
      "metadata": {
        "colab": {
          "base_uri": "https://localhost:8080/"
        },
        "id": "dngMoRCEKIh2",
        "outputId": "16342400-6741-45d8-960e-2ea929b7fcd7"
      },
      "execution_count": null,
      "outputs": [
        {
          "output_type": "stream",
          "name": "stdout",
          "text": [
            "Mounted at /gdrive\n"
          ]
        }
      ]
    },
    {
      "cell_type": "markdown",
      "source": [
        "#Hex World"
      ],
      "metadata": {
        "id": "jaz8RiXTjXAT"
      }
    },
    {
      "cell_type": "code",
      "source": [
        "class MDP:\n",
        "    def __init__(self,Y,S,A,T,R):\n",
        "        self.Y = Y #discount factor\n",
        "        self.S = S #state space\n",
        "        self.A = A #action\n",
        "        self.T = T #transition function\n",
        "        self.R = R #reward function"
      ],
      "metadata": {
        "id": "C7L6EApajYQA"
      },
      "execution_count": null,
      "outputs": []
    },
    {
      "cell_type": "code",
      "source": [
        "#6 direction can take in one action\n",
        "#const variable\n",
        "ACTIONS = [\"→\", \"↗\", \"↖\", \"←\", \"↙\", \"↘\"]\n",
        "MOVEMENTS = [(1,0),(0,1),(-1,1),(-1,0),(0,-1),(1,-1)]\n",
        "\n",
        "terminal_state = (MIN_INT,MIN_INT)\n",
        "MOVE_TO_ARROWS = {MOVEMENTS[i] : ACTIONS[i] for i in range(len(ACTIONS))}"
      ],
      "metadata": {
        "id": "WP18P-vAjmNN"
      },
      "execution_count": null,
      "outputs": []
    },
    {
      "cell_type": "markdown",
      "source": [
        "DS for a HexWorld MDP"
      ],
      "metadata": {
        "id": "yyT5Yngrj9vU"
      }
    },
    {
      "cell_type": "code",
      "source": [
        "class HexWorldMDP:\n",
        "    #constructor\n",
        "    def __init__(self,y,p_transision,reward_bump_border,hexes,rewards): \n",
        "        '''y (float) -> discount factor\n",
        "        p_transition (float) -> probablity of transition to correct next state\n",
        "        reward_bump_border (float) -> reward if go outside of the hex world\n",
        "        hexes (vector{state}) -> all state in hex world\n",
        "        rewards (dict{state,real}) -> reward in absorbing hex\n",
        "        '''\n",
        "        self.T, self.R = self.constructTR(p_transision,reward_bump_border,hexes,rewards)\n",
        "        self.mdp = MDP(y,hexes,MOVEMENTS,self.T,self.R)\n",
        "\n",
        "    def constructTR(self,p_transition,reward_bump_border,hexes,rewards):\n",
        "        nS = len(hexes) + 1 #add one terminal state\n",
        "        nA = len(MOVEMENTS) #6 action\n",
        "\n",
        "        p_veer = (1 - p_transition)/2 #unintended probablity\n",
        "        R = {} #R = {('state','action'):'real'}\n",
        "        T = {} #T = {('state','action','state'),'real}\n",
        "\n",
        "        for s in hexes:\n",
        "            if s in rewards.keys():\n",
        "               for a in MOVEMENTS:\n",
        "                   #s_ = s + a\n",
        "                   ax,ay = a\n",
        "                   sx,sy = s\n",
        "                   \n",
        "                   s_ = (sx + ax,sy + ay)\n",
        "                   T[(s,a,s_)] = 0.0\n",
        "                   T[(s,a,terminal_state)] = 1.0\n",
        "                   self.updateR(R,(s,a),rewards[s])\n",
        "            else:\n",
        "                for idx,a in enumerate(MOVEMENTS):\n",
        "                    #s_ = s + a\n",
        "                    ax,ay = a\n",
        "                    sx,sy = s\n",
        "                    \n",
        "                    s_ = (sx + ax,sy + ay)\n",
        "                    self.updateR(R,(s,a),0.0)\n",
        "                    self.updateT(T,(s,a,s_),0.0)\n",
        "\n",
        "                    if s_ not in hexes: #out of the map\n",
        "                       s_ = s\n",
        "                       self.updateR(R, (s, a),reward_bump_border * p_transition)\n",
        "                    self.updateT(T,(s,a,s_),p_transition)\n",
        "\n",
        "                    x,y = MOVEMENTS[(idx + 1) % nA]\n",
        "                    s_ = (sx + x,sy + y)\n",
        "                    if s_ not in hexes: #out of the map\n",
        "                       s_ = s\n",
        "                       self.updateR(R, (s, a),reward_bump_border * p_veer)\n",
        "                    self.updateT(T,(s,a,s_),p_veer)\n",
        "\n",
        "                    x,y = MOVEMENTS[(idx - 1) % nA]\n",
        "                    s_ = (sx + x,sy + y)\n",
        "                    if s_ not in hexes: #out of the map\n",
        "                       s_ = s\n",
        "                       self.updateR(R, (s, a),reward_bump_border * p_veer)\n",
        "                    self.updateT(T,(s,a,s_),p_veer)\n",
        "        for a in MOVEMENTS:\n",
        "             T[terminal_state, a, terminal_state] = 1.0\n",
        "        return T,R  \n",
        "    def updateR(self,R,key,value):\n",
        "        if key not in R.keys():\n",
        "           R[key] = 0.0\n",
        "        R[key] += value\n",
        "    \n",
        "    def updateT(self,T,key,value):\n",
        "        if key not in T.keys():\n",
        "           T[key] = 0.0\n",
        "        T[key] += value      "
      ],
      "metadata": {
        "id": "ZLggCEJikADH"
      },
      "execution_count": null,
      "outputs": []
    },
    {
      "cell_type": "code",
      "source": [
        "#functuion for hex world mdp\n",
        "def inbounds(hexMDP,s):\n",
        "    return (s in hexMDP.mdp.S)\n",
        "\n",
        "def T(mdp,s,a,s_):\n",
        "    if (s,a,s_) not in mdp.T.keys():\n",
        "       return 0.0\n",
        "    return mdp.T[(s,a,s_)]\n",
        "\n",
        "def R(mdp,s,a):\n",
        "    if (s,a) not in mdp.R.keys():\n",
        "       return 0.0\n",
        "    return mdp.R[(s,a)]\n",
        "\n",
        "def is_terminal(s):\n",
        "    return s == terminal_state\n",
        "\n",
        "def n_states(mdp):\n",
        "    return len(mdp.mdp.S) + 1 #plus one terminal"
      ],
      "metadata": {
        "id": "11J-KuShmTZm"
      },
      "execution_count": null,
      "outputs": []
    },
    {
      "cell_type": "markdown",
      "source": [
        "MDP - Value Iteration"
      ],
      "metadata": {
        "id": "lvcouN7lmW7z"
      }
    },
    {
      "cell_type": "code",
      "source": [
        "# computing lookahead state-action value from s given action a\n",
        "def lookahead(P,U,s,a):\n",
        "    #P is MDP object\n",
        "    S,y = P.S, P.Y\n",
        "    return R(P,s,a) + y * sum([T(P,s,a,s_) * U[i] for (i,s_) in enumerate(S)]) \n",
        "\n",
        "def iterative_policy_evalution(MDP,pi,max_iter):\n",
        "    S,T,R,y = MDP.S, MDP.T, MDP.R, MDP.y\n",
        "    U = [0.0 for _ in S]\n",
        "    for k in range(max_iter):\n",
        "        U = [lookahead(MDP,U,s,pi[s]) for s in S]\n",
        "    return U"
      ],
      "metadata": {
        "id": "M2J3mw0BkGg5"
      },
      "execution_count": null,
      "outputs": []
    },
    {
      "cell_type": "code",
      "source": [
        "# backup procedure improve value function U at state s\n",
        "# return u, optimal policy aa for state s\n",
        "def backup(P,U,s):\n",
        "    u_top = MIN_INT\n",
        "    i_top = -1\n",
        "    for i,a in enumerate(P.A):\n",
        "        u = lookahead(P,U,s,a)\n",
        "        if u > u_top:\n",
        "           u_top = u\n",
        "           i_top = i\n",
        "    return (u_top,P.A[i_top])"
      ],
      "metadata": {
        "id": "NvXRHdoRmgv8"
      },
      "execution_count": null,
      "outputs": []
    },
    {
      "cell_type": "code",
      "source": [
        "# solve Hex world MDP, repeat until ||U - U′|| < δ\n",
        "epsilon = 1e-16   # threshold\n",
        "\n",
        "# return value function, and optimal policy for each state\n",
        "def solve(P):\n",
        "    S,y = P.mdp.S, P.mdp.Y\n",
        "    U = [0] * len(S)\n",
        "    pi = {} #Dict(state : action)\n",
        "    iter = 0\n",
        "\n",
        "    while True:\n",
        "       iter += 1\n",
        "       U_ = [0] * len(S)\n",
        "       for i, s in enumerate(S):\n",
        "            U_[i], pi[s] = backup(P.mdp, U, s)\n",
        "       sub_U = [U_[i] - U[i] for i in range(len(U))]\n",
        "       if np.linalg.norm(sub_U,2) < epsilon:\n",
        "          break\n",
        "       U = U_\n",
        "\n",
        "    print(\"Total iter = \",iter)\n",
        "    return U, pi"
      ],
      "metadata": {
        "id": "YVd4prY_minp"
      },
      "execution_count": null,
      "outputs": []
    },
    {
      "cell_type": "markdown",
      "source": [
        "HexWorld Sample"
      ],
      "metadata": {
        "id": "_4txDBVbmlC-"
      }
    },
    {
      "cell_type": "code",
      "source": [
        "#sample 1:\n",
        "discount = 0.5\n",
        "reward_bump_border = -1.0\n",
        "p_trans = 0.7\n",
        "\n",
        "hexes = [   (0, 0), (1, 0), (2, 0), (3, 0), (0, 1), (1, 1), (2, 1), (-1, 2), \n",
        "            (0, 2), (1, 2), (2, 2), (3, 2), (4, 2), (5, 2), (6, 2), (7, 2), \n",
        "            (8, 2), (4, 1), (5, 0), (6, 0), (7, 0), (7, 1), (8, 1), (9, 0) ]\n",
        "\n",
        "rewards = {\n",
        "            (0,1) : -5.0,\n",
        "            (2,0) : 5.0,\n",
        "            (9,0) : 6.0,\n",
        "            (2,4) : -1.0\n",
        "          }\n",
        "\n",
        "P = HexWorldMDP(discount, p_trans, reward_bump_border, hexes, rewards)"
      ],
      "metadata": {
        "id": "-jQOIsUAmkok"
      },
      "execution_count": null,
      "outputs": []
    },
    {
      "cell_type": "code",
      "source": [
        "#Sample 2:\n",
        "discount = 0.9\n",
        "reward_bump_border = -1.0\n",
        "p_trans = 0.7\n",
        "\n",
        "hexes = [   (0, 0), (1, 0), (2, 0), (3, 0), (0, 1), (1, 1), (2, 1), (-1, 2), \n",
        "            (0, 2), (1, 2), (2, 2), (3, 2), (4, 2), (5, 2), (6, 2), (7, 2), \n",
        "            (8, 2), (4, 1), (5, 0), (6, 0), (7, 0), (7, 1), (8, 1), (9, 0) ]\n",
        "\n",
        "rewards = {\n",
        "            (0,1) : 5.0,\n",
        "            (2,0) : -10.0,\n",
        "            (9,0) : 10.0\n",
        "          }\n",
        "\n",
        "P = HexWorldMDP(discount, p_trans, reward_bump_border, hexes, rewards)"
      ],
      "metadata": {
        "id": "qlOjej0tm94V"
      },
      "execution_count": null,
      "outputs": []
    },
    {
      "cell_type": "code",
      "source": [
        "U, pi = solve(P)\n",
        "U"
      ],
      "metadata": {
        "colab": {
          "base_uri": "https://localhost:8080/"
        },
        "id": "2rQ7XYNhnRyz",
        "outputId": "f055339a-65a5-462b-c0bb-0e5bc1b99989"
      },
      "execution_count": null,
      "outputs": [
        {
          "output_type": "stream",
          "name": "stdout",
          "text": [
            "Total iter =  45\n"
          ]
        },
        {
          "output_type": "execute_result",
          "data": {
            "text/plain": [
              "[4.1377814603755985,\n",
              " 4.290229357221428,\n",
              " -10.0,\n",
              " 0.7114723767907958,\n",
              " 5.0,\n",
              " 4.308361926449785,\n",
              " 3.357815247498474,\n",
              " 4.137781460375598,\n",
              " 4.290229357221427,\n",
              " 3.746754035300551,\n",
              " 3.0794914458400475,\n",
              " 3.0134940431880213,\n",
              " 3.7299216690908814,\n",
              " 4.798163203867212,\n",
              " 6.035966887020738,\n",
              " 7.0443827019144685,\n",
              " 6.912224111606099,\n",
              " 3.0134940431880213,\n",
              " 3.3712431652980976,\n",
              " 4.382551604234304,\n",
              " 5.554385192208003,\n",
              " 6.912224111606099,\n",
              " 8.219178082191782,\n",
              " 10.0]"
            ]
          },
          "metadata": {},
          "execution_count": 18
        }
      ]
    },
    {
      "cell_type": "markdown",
      "source": [
        "#SIMULATOR\n",
        "function support simulate game"
      ],
      "metadata": {
        "id": "Iz5v5092nXF9"
      }
    },
    {
      "cell_type": "code",
      "source": [
        "def sample(items,weight): \n",
        "    sum = 0.0\n",
        "    num = np.random.rand()\n",
        "    save = -1\n",
        "    for i in range(len(weight)):\n",
        "        sum += weight[i]\n",
        "        if sum > num:\n",
        "           save = i\n",
        "           break\n",
        "    if save == -1:\n",
        "       return items[0]\n",
        "    return items[save]\n",
        "\n",
        "def generate_start_state(mdp):\n",
        "    return mdp.mdp.S[np.random.randint(0,n_states(mdp) - 1)]\n",
        "\n",
        "def generate_next_state(hexMDP,s,a):\n",
        "    A = hexMDP.mdp.A\n",
        "    probability = []\n",
        "    S_ = []\n",
        "\n",
        "    for a_ in A:\n",
        "        a_x, a_y = a_\n",
        "        sx,sy = s\n",
        "        s_x = sx + a_x\n",
        "        s_y = sy + a_y\n",
        "        s_ = (s_x,s_y)\n",
        "        if T(hexMDP.mdp,s,a,s_) > 0.0:\n",
        "           probability.append(T(hexMDP.mdp,s,a,s_))\n",
        "           S_.append(s_)\n",
        "    s_ = s\n",
        "    if T(hexMDP.mdp, s, a, s_) > 0.0:\n",
        "            probability.append(T(hexMDP.mdp, s, a, s_))\n",
        "            S_.append(s_)\n",
        "    # check if go to terminal state after receive reward\n",
        "    if T(hexMDP.mdp,s,a,terminal_state) > 0.0:\n",
        "       probability.append(T(hexMDP.mdp,s,a,terminal_state))\n",
        "       S_.append(terminal_state)\n",
        "\n",
        "    # random select in prob action\n",
        "    s_ = sample(S_,probability)\n",
        "\n",
        "    s_x,s_y = s_\n",
        "    a_x = s_x - sx\n",
        "    a_y = s_y - sy\n",
        "    if s_ == s: #stay\n",
        "       idx = -1\n",
        "       for i in range(len(A)):\n",
        "           temp_x,temp_y = A[i]\n",
        "           if a_x == temp_x and a_y == temp_y:\n",
        "              idx = i\n",
        "              break\n",
        "       before = (idx - 1) % 6\n",
        "       after = (idx + 1) % 6\n",
        "       for i in [before,after]:\n",
        "           temp_x,temp_y = A[i]\n",
        "           s_x = sx + temp_x\n",
        "           s_y = sy + temp_y\n",
        "           if inbounds(hexMDP,(s_x,s_y)) is False:\n",
        "              a_ = A[i]\n",
        "              break\n",
        "    elif s_ == terminal_state:\n",
        "        a_ = A[0]\n",
        "    return s_,a_\n",
        "\n",
        "def simulation(hexMDP, pi,start_state,show_step = False):\n",
        "    S,R,T,y = hexMDP.mdp.S, hexMDP.mdp.R,hexMDP.mdp.T,hexMDP.mdp.Y\n",
        "    if start_state not in S:\n",
        "       return 0.0\n",
        "    s = start_state\n",
        "    total_reward = 0.0\n",
        "    step = 0\n",
        "\n",
        "    while True:\n",
        "        if s in rewards.keys():\n",
        "           total_reward += math.pow(y,step) * rewards[s] \n",
        "        # next state action by random \n",
        "        s_, a_ = generate_next_state(hexMDP, s, pi[s])\n",
        "        # if stay -> bump the border\n",
        "        if s_ == s:\n",
        "           total_reward += math.pow(y,step) * reward_bump_border\n",
        "        if show_step: # print out step and direction arrow\n",
        "           sx,sy = s\n",
        "           print('(',sx, \",\", sy, ')')\n",
        "           print(' ', MOVE_TO_ARROWS[pi[s]], ' ', MOVE_TO_ARROWS[a_], ' ', total_reward)\n",
        "        if is_terminal(s_):\n",
        "           break\n",
        "        step += 1\n",
        "        s = s_\n",
        "    return total_reward      "
      ],
      "metadata": {
        "id": "lHi31SwgnZnf"
      },
      "execution_count": null,
      "outputs": []
    },
    {
      "cell_type": "code",
      "source": [
        "U, pi = solve(P)\n",
        "a = simulation(P,pi,(4,1),show_step = False)\n",
        "print(a)"
      ],
      "metadata": {
        "colab": {
          "base_uri": "https://localhost:8080/"
        },
        "id": "ZigjSWsZpAG9",
        "outputId": "d5951b78-f6f8-4745-ba48-510fc1a39e8c"
      },
      "execution_count": null,
      "outputs": [
        {
          "output_type": "stream",
          "name": "stdout",
          "text": [
            "Total iter =  45\n",
            "2.299243401000001\n"
          ]
        }
      ]
    },
    {
      "cell_type": "markdown",
      "source": [
        "#Monte Carlo Simulation"
      ],
      "metadata": {
        "id": "HivvV4obta4a"
      }
    },
    {
      "cell_type": "code",
      "source": [
        "def MonteCarloSimulation(hexMDP, num_iter):\n",
        "    S = hexMDP.mdp.S\n",
        "    start_state = generate_start_state(hexMDP)\n",
        "    total = 0.0\n",
        "\n",
        "    for iter in range(num_iter):\n",
        "        total += simulation(hexMDP,pi,start_state)\n",
        "    print(\"Numher of iteration: \",num_iter)\n",
        "    print(\"Start state: \",start_state)\n",
        "    print(\"Mean = \",total / num_iter)\n",
        "    idx = 0\n",
        "    for ele in S:\n",
        "        idx += 1\n",
        "        if ele == start_state:\n",
        "           break\n",
        "    if idx < len(U):\n",
        "       print(\"Expected utility = \", U[idx])"
      ],
      "metadata": {
        "id": "-8qG1LeDtduV"
      },
      "execution_count": null,
      "outputs": []
    },
    {
      "cell_type": "code",
      "source": [
        "MonteCarloSimulation(P, 100000)"
      ],
      "metadata": {
        "colab": {
          "base_uri": "https://localhost:8080/"
        },
        "id": "_qTrCWFIvcC3",
        "outputId": "1cf2cb42-4c55-4cbb-d66b-452df2ee42fa"
      },
      "execution_count": null,
      "outputs": [
        {
          "output_type": "stream",
          "name": "stdout",
          "text": [
            "Numher of iteration:  100000\n",
            "Start state:  (5, 2)\n",
            "Mean =  4.795767614562825\n",
            "Expected utility =  6.035966887020738\n"
          ]
        }
      ]
    },
    {
      "cell_type": "code",
      "source": [
        "def render(HexMDP,U,pi,tit = \"\",current_state = None):\n",
        "    # constant setting plot\n",
        "    diff_x = 0.62\n",
        "    diff_y = 0.6\n",
        "    diff_odd = 0.3\n",
        "\n",
        "    DIRECT = [(1,0),(1,1),(-1,1),(-1,0),(-1,-1),(1,-1)]\n",
        "    direct = {MOVEMENTS[i] : DIRECT[i] for i in range(len(DIRECT))}\n",
        "\n",
        "    S = HexMDP.mdp.S\n",
        "    R = HexMDP.mdp.R\n",
        "\n",
        "    X = [(sx * diff_x + diff_odd * sy) for sx,sy in S]\n",
        "    Y = [(sy * diff_y) for _,sy in S]\n",
        "    # setup grad color\n",
        "    def compute(u,R):\n",
        "        return (u - np.min(list(R.values()))) / (np.max(list(R.values())) - np.min(list(R.values())))\n",
        "    colors = [compute(u,R) for u in U]\n",
        "    plt.scatter(X,Y,s = 450,marker = 'h',c = colors,cmap = \"GnBu_r\")\n",
        "    plt.title(tit)\n",
        "\n",
        "    if current_state != None:\n",
        "       cur_x,cur_y = current_state\n",
        "       plt.scatter([cur_x * diff_x + diff_odd * cur_y],[cur_y * diff_y],marker = 'h',markersize = 25,mec = 'g', mfc = 'g',alpha = 0.0)\n",
        "    for s in S:\n",
        "        s_x,s_y = s\n",
        "        x = s_x * diff_x + diff_odd * s_y\n",
        "        y = s_y * diff_y\n",
        "        dx, dy = direct[pi[s]]\n",
        "        dx /= 100; dy /= 100\n",
        "        x += dx * 2\n",
        "        y += dy * 2\n",
        "        plt.plot([x, x + dx], [y, y + dy],'k',linewidth = 2)\n",
        "    plt.plot([-1,6,6,-1],[-2,-2,3,3])\n",
        "    plt.show()\n",
        "    \n",
        "render(P,U,pi,tit = \"Policy\")"
      ],
      "metadata": {
        "colab": {
          "base_uri": "https://localhost:8080/",
          "height": 281
        },
        "id": "KjVO52M5zneW",
        "outputId": "be5e35af-6e28-4118-e7db-410bd8dfdf06"
      },
      "execution_count": null,
      "outputs": [
        {
          "output_type": "display_data",
          "data": {
            "image/png": "[encoded data removed]",
            "text/plain": [
              "<Figure size 432x288 with 1 Axes>"
            ]
          },
          "metadata": {
            "needs_background": "light"
          }
        }
      ]
    }
  ]
}